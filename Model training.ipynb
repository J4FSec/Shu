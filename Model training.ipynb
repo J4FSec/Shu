{
  "nbformat": 4,
  "nbformat_minor": 0,
  "metadata": {
    "colab": {
      "name": "classification.ipynb",
      "provenance": [],
      "collapsed_sections": []
    },
    "kernelspec": {
      "display_name": "Python 3",
      "language": "python",
      "name": "python3"
    },
    "language_info": {
      "codemirror_mode": {
        "name": "ipython",
        "version": 3
      },
      "file_extension": ".py",
      "mimetype": "text/x-python",
      "name": "python",
      "nbconvert_exporter": "python",
      "pygments_lexer": "ipython3",
      "version": "3.8.5"
    },
    "accelerator": "GPU"
  },
  "cells": [
    {
      "cell_type": "markdown",
      "metadata": {
        "id": "TBFXQGKYUc4X"
      },
      "source": [
        "##### Copyright 2018 The TensorFlow Authors."
      ]
    },
    {
      "cell_type": "code",
      "metadata": {
        "cellView": "form",
        "id": "1z4xy2gTUc4a"
      },
      "source": [
        "#@title Licensed under the Apache License, Version 2.0 (the \"License\");\n",
        "# you may not use this file except in compliance with the License.\n",
        "# You may obtain a copy of the License at\n",
        "#\n",
        "# https://www.apache.org/licenses/LICENSE-2.0\n",
        "#\n",
        "# Unless required by applicable law or agreed to in writing, software\n",
        "# distributed under the License is distributed on an \"AS IS\" BASIS,\n",
        "# WITHOUT WARRANTIES OR CONDITIONS OF ANY KIND, either express or implied.\n",
        "# See the License for the specific language governing permissions and\n",
        "# limitations under the License."
      ],
      "execution_count": null,
      "outputs": []
    },
    {
      "cell_type": "markdown",
      "metadata": {
        "id": "SjQkON5a_F7r"
      },
      "source": [
        "##Import TensorFlow and other libraries"
      ]
    },
    {
      "cell_type": "code",
      "metadata": {
        "id": "L1WtoaOHVrVh"
      },
      "source": [
        "import matplotlib.pyplot as plt\n",
        "import numpy as np\n",
        "import os\n",
        "import PIL\n",
        "import tensorflow as tf\n",
        "\n",
        "from tensorflow import keras\n",
        "from tensorflow.keras import layers\n",
        "from tensorflow.keras.models import Sequential\n",
        "from tensorflow.python.keras.preprocessing.image import ImageDataGenerator, load_img"
      ],
      "execution_count": null,
      "outputs": []
    },
    {
      "cell_type": "code",
      "metadata": {
        "id": "3FSCmsc__NZ7"
      },
      "source": [
        "###Load data from google driver"
      ],
      "execution_count": null,
      "outputs": []
    },
    {
      "cell_type": "code",
      "metadata": {
        "colab": {
          "base_uri": "https://localhost:8080/"
        },
        "id": "dlIl_qZRj6Nx",
        "outputId": "ddba1118-b487-4908-c535-8975f50c2284"
      },
      "source": [
        "from google.colab import drive\n",
        "drive.mount('/content/drive')\n",
        "import pathlib\n",
        "data_dir = \"/content/drive/MyDrive/dataset/Training\"\n",
        "data_dir = pathlib.Path(data_dir)"
      ],
      "execution_count": null,
      "outputs": [
        {
          "output_type": "stream",
          "text": [
            "Mounted at /content/drive\n"
          ],
          "name": "stdout"
        }
      ]
    },
    {
      "cell_type": "code",
      "metadata": {
        "colab": {
          "base_uri": "https://localhost:8080/"
        },
        "id": "SbtTDYhOHZb6",
        "outputId": "d6656896-162a-4872-ef54-88da6a334cd2"
      },
      "source": [
        "image_count = len(list(data_dir.glob('*/*.png')))\n",
        "print(image_count)\n",
        "print(data_dir)"
      ],
      "execution_count": null,
      "outputs": [
        {
          "output_type": "stream",
          "text": [
            "11500\n",
            "/content/drive/MyDrive/dataset/Training\n"
          ],
          "name": "stdout"
        }
      ]
    },
    {
      "cell_type": "markdown",
      "metadata": {
        "id": "xyDNn9MbIzfT"
      },
      "source": [
        "## Create a dataset"
      ]
    },
    {
      "cell_type": "markdown",
      "metadata": {
        "id": "anqiK_AGI086"
      },
      "source": [
        "Define some parameters for the loader:"
      ]
    },
    {
      "cell_type": "code",
      "metadata": {
        "id": "H74l2DoDI2XD"
      },
      "source": [
        "batch_size = 10\n",
        "img_height = 250\n",
        "img_width = 250"
      ],
      "execution_count": null,
      "outputs": []
    },
    {
      "cell_type": "markdown",
      "metadata": {
        "id": "pFBhRrrEI49z"
      },
      "source": [
        "It's good practice to use a validation split when developing your model. Let's use 80% of the images for training, and 20% for validation."
      ]
    },
    {
      "cell_type": "code",
      "metadata": {
        "colab": {
          "base_uri": "https://localhost:8080/"
        },
        "id": "fIR0kRZiI_AT",
        "outputId": "5897accf-25cb-4a68-a73b-7f22813be801"
      },
      "source": [
        "train_ds = tf.keras.preprocessing.image_dataset_from_directory(\n",
        "  data_dir,\n",
        "  validation_split=0.2,\n",
        "  subset=\"training\",\n",
        "  seed=123,\n",
        "  image_size=(img_height, img_width),\n",
        "  batch_size=batch_size)"
      ],
      "execution_count": null,
      "outputs": [
        {
          "output_type": "stream",
          "text": [
            "Found 11500 files belonging to 2 classes.\n",
            "Using 9200 files for training.\n"
          ],
          "name": "stdout"
        }
      ]
    },
    {
      "cell_type": "code",
      "metadata": {
        "colab": {
          "base_uri": "https://localhost:8080/"
        },
        "id": "iscU3UoVJBXj",
        "outputId": "ca5e6d72-12d8-4336-ec49-2ac1694f27f8"
      },
      "source": [
        "val_ds = tf.keras.preprocessing.image_dataset_from_directory(\n",
        "  data_dir,\n",
        "  validation_split=0.2,\n",
        "  subset=\"validation\",\n",
        "  seed=123,\n",
        "  image_size=(img_height, img_width),\n",
        "  batch_size=batch_size)"
      ],
      "execution_count": null,
      "outputs": [
        {
          "output_type": "stream",
          "text": [
            "Found 11513 files belonging to 2 classes.\n",
            "Using 2302 files for validation.\n"
          ],
          "name": "stdout"
        }
      ]
    },
    {
      "cell_type": "markdown",
      "metadata": {
        "id": "WLQULyAvJC3X"
      },
      "source": [
        "You can find the class names in the class_names attribute on these datasets. These correspond to the directory names in alphabetical order."
      ]
    },
    {
      "cell_type": "code",
      "metadata": {
        "colab": {
          "base_uri": "https://localhost:8080/"
        },
        "id": "ZHAxkHX5JD3k",
        "outputId": "fb215f6d-5331-41b1-e22b-630fb835224e"
      },
      "source": [
        "class_names = train_ds.class_names\n",
        "print(class_names)"
      ],
      "execution_count": null,
      "outputs": [
        {
          "output_type": "stream",
          "text": [
            "['clean', 'defaced']\n"
          ],
          "name": "stdout"
        }
      ]
    },
    {
      "cell_type": "markdown",
      "metadata": {
        "id": "4Dr0at41KcAU"
      },
      "source": [
        "## Configure the dataset for performance"
      ]
    },
    {
      "cell_type": "code",
      "metadata": {
        "id": "nOjJSm7DKoZA"
      },
      "source": [
        "AUTOTUNE = tf.data.AUTOTUNE\n",
        "\n",
        "train_ds = train_ds.cache().shuffle(1000).prefetch(buffer_size=AUTOTUNE)\n",
        "val_ds = val_ds.cache().prefetch(buffer_size=AUTOTUNE)"
      ],
      "execution_count": null,
      "outputs": []
    },
    {
      "cell_type": "markdown",
      "metadata": {
        "id": "8GUnmPF4JvEf"
      },
      "source": [
        "## Standardize the data"
      ]
    },
    {
      "cell_type": "code",
      "metadata": {
        "id": "PEYxo2CTJvY9"
      },
      "source": [
        "normalization_layer = layers.experimental.preprocessing.Rescaling(1./255)"
      ],
      "execution_count": null,
      "outputs": []
    },
    {
      "cell_type": "code",
      "metadata": {
        "id": "X9o9ESaJJ502",
        "colab": {
          "base_uri": "https://localhost:8080/"
        },
        "outputId": "798b33e1-1b93-42ab-9fcd-bb33c0c70f46"
      },
      "source": [
        "normalized_ds = train_ds.map(lambda x, y: (normalization_layer(x), y))\n",
        "image_batch, labels_batch = next(iter(normalized_ds))\n",
        "first_image = image_batch[0]\n",
        "# Notice the pixels values are now in `[0,1]`.\n",
        "print(np.min(first_image), np.max(first_image)) "
      ],
      "execution_count": null,
      "outputs": [
        {
          "output_type": "stream",
          "text": [
            "0.0 1.0\n"
          ],
          "name": "stdout"
        }
      ]
    },
    {
      "cell_type": "markdown",
      "metadata": {
        "id": "hqtyGodAMvNV"
      },
      "source": [
        "# Overfitting"
      ]
    },
    {
      "cell_type": "markdown",
      "metadata": {
        "id": "BDMfYqwmM1C-"
      },
      "source": [
        "## Data augmentation"
      ]
    },
    {
      "cell_type": "code",
      "metadata": {
        "id": "9J80BAbIMs21"
      },
      "source": [
        "data_augmentation = keras.Sequential(\n",
        "  [\n",
        "    layers.experimental.preprocessing.RandomFlip(\"horizontal\", \n",
        "                                                 input_shape=(img_height, \n",
        "                                                              img_width,\n",
        "                                                              3)),\n",
        "    layers.experimental.preprocessing.RandomRotation(0.1),\n",
        "    layers.experimental.preprocessing.RandomZoom(0.1),\n",
        "  ]\n",
        ")"
      ],
      "execution_count": null,
      "outputs": []
    },
    {
      "cell_type": "code",
      "metadata": {
        "id": "2Zeg8zsqXCsm"
      },
      "source": [
        "model = Sequential([\n",
        "  layers.experimental.preprocessing.Rescaling(1./255, input_shape=(img_height, img_width, 3)),\n",
        "\n",
        "  layers.Conv2D(16, 3, padding='same', activation='relu'),\n",
        "  layers.BatchNormalization(),\n",
        "  layers.MaxPooling2D(pool_size=2, strides=2),\n",
        "  layers.Dropout(0.1),\n",
        "\n",
        "  layers.Conv2D(32, 3, padding='same', activation='relu'),\n",
        "  layers.Conv2D(32, 3, padding='same', activation='relu'),\n",
        "  layers.BatchNormalization(),\n",
        "  layers.MaxPooling2D(pool_size=2, strides=2),\n",
        "\n",
        "  layers.Conv2D(64, 3, padding='same', activation='relu'),\n",
        "  layers.Conv2D(64, 3, padding='same', activation='relu'),\n",
        "  layers.MaxPooling2D(pool_size=2, strides=2),\n",
        "  layers.Dropout(0.2),\n",
        "\n",
        "  layers.Conv2D(128, 3, padding='same', activation='relu'),\n",
        "  layers.Conv2D(128, 3, padding='same', activation='relu'),\n",
        "  layers.BatchNormalization(),\n",
        "  layers.MaxPooling2D(pool_size=2, strides=2),\n",
        "\n",
        "  layers.Dropout(0.5),\n",
        "  layers.Flatten(),\n",
        "  layers.Dense(256, activation='relu'),\n",
        "  layers.Dense(2, activation='softmax')\n",
        "])"
      ],
      "execution_count": null,
      "outputs": []
    },
    {
      "cell_type": "markdown",
      "metadata": {
        "id": "L4nEcuqgZLbi"
      },
      "source": [
        "## Compile and train the model"
      ]
    },
    {
      "cell_type": "code",
      "metadata": {
        "id": "EvyAINs9ZOmJ"
      },
      "source": [
        "model.compile(optimizer='adam',\n",
        "              loss=tf.keras.losses.SparseCategoricalCrossentropy(from_logits=True),\n",
        "              metrics=['accuracy'])"
      ],
      "execution_count": null,
      "outputs": []
    },
    {
      "cell_type": "code",
      "metadata": {
        "colab": {
          "base_uri": "https://localhost:8080/"
        },
        "id": "wWLkKoKjZSoC",
        "outputId": "795770a0-e4ee-4225-c6c9-a590a34a9c48"
      },
      "source": [
        "model.summary()"
      ],
      "execution_count": null,
      "outputs": [
        {
          "output_type": "stream",
          "text": [
            "Model: \"sequential_6\"\n",
            "_________________________________________________________________\n",
            "Layer (type)                 Output Shape              Param #   \n",
            "=================================================================\n",
            "rescaling_6 (Rescaling)      (None, 250, 250, 3)       0         \n",
            "_________________________________________________________________\n",
            "conv2d_30 (Conv2D)           (None, 250, 250, 16)      448       \n",
            "_________________________________________________________________\n",
            "batch_normalization_8 (Batch (None, 250, 250, 16)      64        \n",
            "_________________________________________________________________\n",
            "max_pooling2d_15 (MaxPooling (None, 125, 125, 16)      0         \n",
            "_________________________________________________________________\n",
            "dropout_7 (Dropout)          (None, 125, 125, 16)      0         \n",
            "_________________________________________________________________\n",
            "conv2d_31 (Conv2D)           (None, 125, 125, 32)      4640      \n",
            "_________________________________________________________________\n",
            "conv2d_32 (Conv2D)           (None, 125, 125, 32)      9248      \n",
            "_________________________________________________________________\n",
            "batch_normalization_9 (Batch (None, 125, 125, 32)      128       \n",
            "_________________________________________________________________\n",
            "max_pooling2d_16 (MaxPooling (None, 62, 62, 32)        0         \n",
            "_________________________________________________________________\n",
            "conv2d_33 (Conv2D)           (None, 62, 62, 64)        18496     \n",
            "_________________________________________________________________\n",
            "conv2d_34 (Conv2D)           (None, 62, 62, 64)        36928     \n",
            "_________________________________________________________________\n",
            "max_pooling2d_17 (MaxPooling (None, 31, 31, 64)        0         \n",
            "_________________________________________________________________\n",
            "dropout_8 (Dropout)          (None, 31, 31, 64)        0         \n",
            "_________________________________________________________________\n",
            "conv2d_35 (Conv2D)           (None, 31, 31, 128)       73856     \n",
            "_________________________________________________________________\n",
            "conv2d_36 (Conv2D)           (None, 31, 31, 128)       147584    \n",
            "_________________________________________________________________\n",
            "batch_normalization_10 (Batc (None, 31, 31, 128)       512       \n",
            "_________________________________________________________________\n",
            "max_pooling2d_18 (MaxPooling (None, 15, 15, 128)       0         \n",
            "_________________________________________________________________\n",
            "dropout_9 (Dropout)          (None, 15, 15, 128)       0         \n",
            "_________________________________________________________________\n",
            "flatten_5 (Flatten)          (None, 28800)             0         \n",
            "_________________________________________________________________\n",
            "dense_10 (Dense)             (None, 256)               7373056   \n",
            "_________________________________________________________________\n",
            "dense_11 (Dense)             (None, 2)                 514       \n",
            "=================================================================\n",
            "Total params: 7,665,474\n",
            "Trainable params: 7,665,122\n",
            "Non-trainable params: 352\n",
            "_________________________________________________________________\n"
          ],
          "name": "stdout"
        }
      ]
    },
    {
      "cell_type": "code",
      "metadata": {
        "colab": {
          "base_uri": "https://localhost:8080/"
        },
        "id": "LWS-vvNaZDag",
        "outputId": "4c74587c-bcfd-4a5d-beac-14b01f0147b1"
      },
      "source": [
        "epochs=60\n",
        "history = model.fit(\n",
        "  train_ds.repeat(),\n",
        "  steps_per_epoch=int(len(train_ds)/batch_size),\n",
        "  validation_data=val_ds.repeat(),\n",
        "  epochs=epochs,\n",
        "  validation_steps=int(len(val_ds)/batch_size)\n",
        ")"
      ],
      "execution_count": null,
      "outputs": [
        {
          "output_type": "stream",
          "text": [
            "Epoch 1/60\n"
          ],
          "name": "stdout"
        },
        {
          "output_type": "stream",
          "text": [
            "/usr/local/lib/python3.7/dist-packages/tensorflow/python/keras/backend.py:4930: UserWarning: \"`sparse_categorical_crossentropy` received `from_logits=True`, but the `output` argument was produced by a sigmoid or softmax activation and thus does not represent logits. Was this intended?\"\n",
            "  '\"`sparse_categorical_crossentropy` received `from_logits=True`, but '\n"
          ],
          "name": "stderr"
        },
        {
          "output_type": "stream",
          "text": [
            "92/92 [==============================] - 4s 35ms/step - loss: 3.1607 - accuracy: 0.8109 - val_loss: 25.1391 - val_accuracy: 0.4957\n",
            "Epoch 2/60\n",
            "92/92 [==============================] - 3s 33ms/step - loss: 0.7289 - accuracy: 0.8565 - val_loss: 2.9798 - val_accuracy: 0.7304\n",
            "Epoch 3/60\n",
            "92/92 [==============================] - 3s 33ms/step - loss: 0.3316 - accuracy: 0.8728 - val_loss: 0.7237 - val_accuracy: 0.8174\n",
            "Epoch 4/60\n",
            "92/92 [==============================] - 3s 34ms/step - loss: 0.2733 - accuracy: 0.9000 - val_loss: 0.3469 - val_accuracy: 0.8696\n",
            "Epoch 5/60\n",
            "92/92 [==============================] - 3s 33ms/step - loss: 0.2380 - accuracy: 0.9109 - val_loss: 0.3327 - val_accuracy: 0.8783\n",
            "Epoch 6/60\n",
            "92/92 [==============================] - 3s 34ms/step - loss: 0.2073 - accuracy: 0.9152 - val_loss: 0.2167 - val_accuracy: 0.9348\n",
            "Epoch 7/60\n",
            "92/92 [==============================] - 3s 34ms/step - loss: 0.1820 - accuracy: 0.9413 - val_loss: 0.1736 - val_accuracy: 0.9130\n",
            "Epoch 8/60\n",
            "92/92 [==============================] - 3s 34ms/step - loss: 0.1904 - accuracy: 0.9304 - val_loss: 0.2308 - val_accuracy: 0.9000\n",
            "Epoch 9/60\n",
            "92/92 [==============================] - 3s 34ms/step - loss: 0.1588 - accuracy: 0.9380 - val_loss: 0.3627 - val_accuracy: 0.9043\n",
            "Epoch 10/60\n",
            "92/92 [==============================] - 3s 34ms/step - loss: 0.1629 - accuracy: 0.9380 - val_loss: 0.0810 - val_accuracy: 0.9783\n",
            "Epoch 11/60\n",
            "92/92 [==============================] - 3s 34ms/step - loss: 0.1192 - accuracy: 0.9576 - val_loss: 0.1615 - val_accuracy: 0.9522\n",
            "Epoch 12/60\n",
            "92/92 [==============================] - 3s 34ms/step - loss: 0.0974 - accuracy: 0.9620 - val_loss: 0.2283 - val_accuracy: 0.9174\n",
            "Epoch 13/60\n",
            "92/92 [==============================] - 3s 34ms/step - loss: 0.1427 - accuracy: 0.9533 - val_loss: 0.1313 - val_accuracy: 0.9565\n",
            "Epoch 14/60\n",
            "92/92 [==============================] - 3s 34ms/step - loss: 0.1705 - accuracy: 0.9424 - val_loss: 2.0740 - val_accuracy: 0.7739\n",
            "Epoch 15/60\n",
            "92/92 [==============================] - 3s 34ms/step - loss: 0.1735 - accuracy: 0.9446 - val_loss: 0.4188 - val_accuracy: 0.8043\n",
            "Epoch 16/60\n",
            "92/92 [==============================] - 3s 34ms/step - loss: 0.1623 - accuracy: 0.9511 - val_loss: 0.2068 - val_accuracy: 0.9304\n",
            "Epoch 17/60\n",
            "92/92 [==============================] - 3s 34ms/step - loss: 0.1098 - accuracy: 0.9587 - val_loss: 0.0846 - val_accuracy: 0.9826\n",
            "Epoch 18/60\n",
            "92/92 [==============================] - 3s 34ms/step - loss: 0.1257 - accuracy: 0.9522 - val_loss: 0.1037 - val_accuracy: 0.9696\n",
            "Epoch 19/60\n",
            "92/92 [==============================] - 3s 34ms/step - loss: 0.1127 - accuracy: 0.9598 - val_loss: 0.3905 - val_accuracy: 0.8783\n",
            "Epoch 20/60\n",
            "92/92 [==============================] - 3s 34ms/step - loss: 0.1137 - accuracy: 0.9663 - val_loss: 0.2974 - val_accuracy: 0.9304\n",
            "Epoch 21/60\n",
            "92/92 [==============================] - 3s 34ms/step - loss: 0.1535 - accuracy: 0.9533 - val_loss: 0.2968 - val_accuracy: 0.8826\n",
            "Epoch 22/60\n",
            "92/92 [==============================] - 3s 33ms/step - loss: 0.1507 - accuracy: 0.9533 - val_loss: 0.1575 - val_accuracy: 0.9478\n",
            "Epoch 23/60\n",
            "92/92 [==============================] - 3s 33ms/step - loss: 0.1327 - accuracy: 0.9641 - val_loss: 0.0837 - val_accuracy: 0.9652\n",
            "Epoch 24/60\n",
            "92/92 [==============================] - 3s 33ms/step - loss: 0.1108 - accuracy: 0.9587 - val_loss: 0.1307 - val_accuracy: 0.9739\n",
            "Epoch 25/60\n",
            "92/92 [==============================] - 3s 34ms/step - loss: 0.0968 - accuracy: 0.9674 - val_loss: 0.0535 - val_accuracy: 0.9826\n",
            "Epoch 26/60\n",
            "92/92 [==============================] - 3s 34ms/step - loss: 0.1030 - accuracy: 0.9707 - val_loss: 0.1082 - val_accuracy: 0.9609\n",
            "Epoch 27/60\n",
            "92/92 [==============================] - 3s 33ms/step - loss: 0.1249 - accuracy: 0.9630 - val_loss: 0.1141 - val_accuracy: 0.9609\n",
            "Epoch 28/60\n",
            "92/92 [==============================] - 3s 33ms/step - loss: 0.1328 - accuracy: 0.9685 - val_loss: 0.0699 - val_accuracy: 0.9696\n",
            "Epoch 29/60\n",
            "92/92 [==============================] - 3s 33ms/step - loss: 0.2013 - accuracy: 0.9391 - val_loss: 0.4105 - val_accuracy: 0.8565\n",
            "Epoch 30/60\n",
            "92/92 [==============================] - 3s 33ms/step - loss: 0.1496 - accuracy: 0.9576 - val_loss: 0.0822 - val_accuracy: 0.9696\n",
            "Epoch 31/60\n",
            "92/92 [==============================] - 3s 33ms/step - loss: 0.0919 - accuracy: 0.9739 - val_loss: 0.0853 - val_accuracy: 0.9739\n",
            "Epoch 32/60\n",
            "92/92 [==============================] - 3s 33ms/step - loss: 0.0855 - accuracy: 0.9793 - val_loss: 0.1156 - val_accuracy: 0.9652\n",
            "Epoch 33/60\n",
            "92/92 [==============================] - 3s 34ms/step - loss: 0.1205 - accuracy: 0.9630 - val_loss: 0.4099 - val_accuracy: 0.8087\n",
            "Epoch 34/60\n",
            "92/92 [==============================] - 3s 33ms/step - loss: 0.1227 - accuracy: 0.9489 - val_loss: 0.2845 - val_accuracy: 0.8870\n",
            "Epoch 35/60\n",
            "92/92 [==============================] - 3s 34ms/step - loss: 0.0781 - accuracy: 0.9674 - val_loss: 0.0887 - val_accuracy: 0.9696\n",
            "Epoch 36/60\n",
            "92/92 [==============================] - 3s 34ms/step - loss: 0.1100 - accuracy: 0.9598 - val_loss: 0.1744 - val_accuracy: 0.9478\n",
            "Epoch 37/60\n",
            "92/92 [==============================] - 3s 33ms/step - loss: 0.0881 - accuracy: 0.9707 - val_loss: 0.2141 - val_accuracy: 0.9261\n",
            "Epoch 38/60\n",
            "92/92 [==============================] - 3s 34ms/step - loss: 0.0915 - accuracy: 0.9696 - val_loss: 1.5837 - val_accuracy: 0.7739\n",
            "Epoch 39/60\n",
            "92/92 [==============================] - 3s 34ms/step - loss: 0.1730 - accuracy: 0.9446 - val_loss: 0.0941 - val_accuracy: 0.9652\n",
            "Epoch 40/60\n",
            "92/92 [==============================] - 3s 34ms/step - loss: 0.1300 - accuracy: 0.9522 - val_loss: 0.0881 - val_accuracy: 0.9783\n",
            "Epoch 41/60\n",
            "92/92 [==============================] - 3s 34ms/step - loss: 0.0867 - accuracy: 0.9663 - val_loss: 0.1723 - val_accuracy: 0.9391\n",
            "Epoch 42/60\n",
            "92/92 [==============================] - 3s 34ms/step - loss: 0.0859 - accuracy: 0.9663 - val_loss: 0.2902 - val_accuracy: 0.9652\n",
            "Epoch 43/60\n",
            "92/92 [==============================] - 3s 33ms/step - loss: 0.1597 - accuracy: 0.9522 - val_loss: 0.0824 - val_accuracy: 0.9609\n",
            "Epoch 44/60\n",
            "92/92 [==============================] - 3s 34ms/step - loss: 0.1433 - accuracy: 0.9576 - val_loss: 0.1135 - val_accuracy: 0.9478\n",
            "Epoch 45/60\n",
            "92/92 [==============================] - 3s 34ms/step - loss: 0.1253 - accuracy: 0.9609 - val_loss: 0.3527 - val_accuracy: 0.8261\n",
            "Epoch 46/60\n",
            "92/92 [==============================] - 3s 34ms/step - loss: 0.1096 - accuracy: 0.9717 - val_loss: 1.0649 - val_accuracy: 0.6391\n",
            "Epoch 47/60\n",
            "92/92 [==============================] - 3s 34ms/step - loss: 0.0960 - accuracy: 0.9652 - val_loss: 0.1946 - val_accuracy: 0.9435\n",
            "Epoch 48/60\n",
            "92/92 [==============================] - 3s 34ms/step - loss: 0.0842 - accuracy: 0.9739 - val_loss: 0.0705 - val_accuracy: 0.9696\n",
            "Epoch 49/60\n",
            "92/92 [==============================] - 3s 34ms/step - loss: 0.1078 - accuracy: 0.9750 - val_loss: 0.0958 - val_accuracy: 0.9478\n",
            "Epoch 50/60\n",
            "92/92 [==============================] - 3s 34ms/step - loss: 0.1551 - accuracy: 0.9424 - val_loss: 0.0859 - val_accuracy: 0.9739\n",
            "Epoch 51/60\n",
            "92/92 [==============================] - 3s 34ms/step - loss: 0.0883 - accuracy: 0.9761 - val_loss: 0.2934 - val_accuracy: 0.8913\n",
            "Epoch 52/60\n",
            "92/92 [==============================] - 3s 34ms/step - loss: 0.0866 - accuracy: 0.9707 - val_loss: 0.1242 - val_accuracy: 0.9609\n",
            "Epoch 53/60\n",
            "92/92 [==============================] - 3s 34ms/step - loss: 0.1103 - accuracy: 0.9739 - val_loss: 0.3251 - val_accuracy: 0.8478\n",
            "Epoch 54/60\n",
            "92/92 [==============================] - 3s 34ms/step - loss: 0.1060 - accuracy: 0.9652 - val_loss: 0.1127 - val_accuracy: 0.9478\n",
            "Epoch 55/60\n",
            "92/92 [==============================] - 3s 34ms/step - loss: 0.1211 - accuracy: 0.9685 - val_loss: 0.1107 - val_accuracy: 0.9565\n",
            "Epoch 56/60\n",
            "92/92 [==============================] - 3s 33ms/step - loss: 0.0933 - accuracy: 0.9696 - val_loss: 0.1402 - val_accuracy: 0.9565\n",
            "Epoch 57/60\n",
            "92/92 [==============================] - 3s 34ms/step - loss: 0.0925 - accuracy: 0.9696 - val_loss: 0.2098 - val_accuracy: 0.8913\n",
            "Epoch 58/60\n",
            "92/92 [==============================] - 3s 34ms/step - loss: 0.0933 - accuracy: 0.9630 - val_loss: 0.0970 - val_accuracy: 0.9652\n",
            "Epoch 59/60\n",
            "92/92 [==============================] - 3s 34ms/step - loss: 0.0682 - accuracy: 0.9826 - val_loss: 0.0819 - val_accuracy: 0.9609\n",
            "Epoch 60/60\n",
            "92/92 [==============================] - 3s 34ms/step - loss: 0.0983 - accuracy: 0.9717 - val_loss: 0.1155 - val_accuracy: 0.9652\n"
          ],
          "name": "stdout"
        }
      ]
    },
    {
      "cell_type": "markdown",
      "metadata": {
        "id": "Lkdl8VsBbZOu"
      },
      "source": [
        "## Visualize training results"
      ]
    },
    {
      "cell_type": "code",
      "metadata": {
        "colab": {
          "base_uri": "https://localhost:8080/",
          "height": 499
        },
        "id": "dduoLfKsZVIA",
        "outputId": "f61d2468-ad5d-488f-ce83-78ca801b4911"
      },
      "source": [
        "acc = history.history['accuracy']\n",
        "val_acc = history.history['val_accuracy']\n",
        "\n",
        "loss = history.history['loss']\n",
        "val_loss = history.history['val_loss']\n",
        "\n",
        "epochs_range = range(epochs)\n",
        "\n",
        "plt.figure(figsize=(8, 8))\n",
        "plt.subplot(1, 2, 1)\n",
        "plt.plot(epochs_range, acc, label='Training Accuracy')\n",
        "plt.plot(epochs_range, val_acc, label='Validation Accuracy')\n",
        "plt.legend(loc='lower right')\n",
        "plt.title('Training and Validation Accuracy')\n",
        "\n",
        "plt.subplot(1, 2, 2)\n",
        "plt.plot(epochs_range, loss, label='Training Loss')\n",
        "plt.plot(epochs_range, val_loss, label='Validation Loss')\n",
        "plt.legend(loc='upper right')\n",
        "plt.title('Training and Validation Loss')\n",
        "plt.show()"
      ],
      "execution_count": null,
      "outputs": [
        {
          "output_type": "display_data",
          "data": {
            "image/png": "[encoded data removed]",
            "text/plain": [
              "<Figure size 576x576 with 2 Axes>"
            ]
          },
          "metadata": {
            "tags": [],
            "needs_background": "light"
          }
        }
      ]
    },
    {
      "cell_type": "markdown",
      "metadata": {
        "id": "kOPkBi1yT8ir"
      },
      "source": [
        "Sau khi đào tạo mô hình xong ta sẽ lưu lại mô hình với định dạng h5. Từ mô hình này ta có thể phát triển các ứng dụng khác mà không phải đào tạo lại.\n",
        "After training, we save the model with h5 format. From these model, we can development other application without retraining."
      ]
    },
    {
      "cell_type": "code",
      "metadata": {
        "id": "04x3wQ2EN66i"
      },
      "source": [
        "model.save(\"/content/drive/MyDrive/dataset/final_model.h5\")"
      ],
      "execution_count": null,
      "outputs": []
    },
    {
      "cell_type": "markdown",
      "metadata": {
        "id": "Mpit1CZROFyU"
      },
      "source": [
        "## **Model evaluation**\n"
      ]
    },
    {
      "cell_type": "code",
      "metadata": {
        "id": "aHktLT9OOLcS"
      },
      "source": [
        "model = keras.models.load_model(\"/content/drive/MyDrive/dataset/final_model.h5\")"
      ],
      "execution_count": null,
      "outputs": []
    },
    {
      "cell_type": "code",
      "metadata": {
        "colab": {
          "base_uri": "https://localhost:8080/",
          "height": 1000
        },
        "id": "txjrhhgMw-ug",
        "outputId": "4f798f1c-5bd2-43e2-a283-a597981a5208"
      },
      "source": [
        "!pip install visualkeras\n",
        "\n",
        "import visualkeras\n",
        "from tensorflow.python.keras.layers import Dense, Conv2D, Flatten, Dropout, MaxPooling2D, ZeroPadding2D\n",
        "from collections import defaultdict\n",
        "\n",
        "color_map = defaultdict(dict)\n",
        "color_map[Dense]['fill'] = 'pink'\n",
        "color_map[Flatten]['fill'] = 'purple'\n",
        "\n",
        "visualkeras.layered_view(model, color_map=color_map)"
      ],
      "execution_count": null,
      "outputs": [
        {
          "output_type": "stream",
          "text": [
            "Requirement already satisfied: visualkeras in /usr/local/lib/python3.7/dist-packages (0.0.2)\n",
            "Requirement already satisfied: pillow>=6.2.0 in /usr/local/lib/python3.7/dist-packages (from visualkeras) (7.1.2)\n",
            "Requirement already satisfied: numpy>=1.18.1 in /usr/local/lib/python3.7/dist-packages (from visualkeras) (1.19.5)\n",
            "Requirement already satisfied: aggdraw>=1.3.11 in /usr/local/lib/python3.7/dist-packages (from visualkeras) (1.3.12)\n"
          ],
          "name": "stdout"
        },
        {
          "output_type": "execute_result",
          "data": {
            "image/png": "[encoded data removed]",
            "text/plain": [
              "<PIL.Image.Image image mode=RGBA size=1196x1334 at 0x7F06D02E7150>"
            ]
          },
          "metadata": {
            "tags": []
          },
          "execution_count": 7
        }
      ]
    },
    {
      "cell_type": "markdown",
      "metadata": {
        "id": "ZSImZSfDBDrm"
      },
      "source": [
        "### Function predict images:"
      ]
    },
    {
      "cell_type": "code",
      "metadata": {
        "id": "xzIJo_ZjbgjA"
      },
      "source": [
        "def img_pred(img_path):\n",
        "  img = keras.preprocessing.image.load_img(\n",
        "    img_path, target_size=(img_height, img_width)\n",
        "  )\n",
        "  img_array = keras.preprocessing.image.img_to_array(img)\n",
        "  img_array = tf.expand_dims(img_array, 0) \n",
        "  predictions = model.predict(img_array)\n",
        "  score = tf.nn.softmax(predictions[0])\n",
        "  return format(class_names[np.argmax(score)])"
      ],
      "execution_count": null,
      "outputs": []
    },
    {
      "cell_type": "code",
      "metadata": {
        "id": "c9u8fYYNDnp8"
      },
      "source": [
        "test_data_dir = \"/content/drive/MyDrive/dataset/Test\"\n",
        "test_data_dir = pathlib.Path(test_data_dir)\n",
        "defaced = list(test_data_dir.glob('defaced/*'))\n",
        "clean = list(test_data_dir.glob('clean/*'))\n",
        "evaluate=[]\n",
        "for i in range (0,len(defaced)):\n",
        "  if img_pred(defaced[i]) == 'defaced':\n",
        "    label = 1\n",
        "  else:\n",
        "    label = 0\n",
        "  defaced_dic = {'class_true':'defaced','class_pred':img_pred(defaced[i]), 'label':label}\n",
        "  evaluate.append(defaced_dic)\n",
        "\n",
        "for i in range (0,len(clean)):\n",
        "  if img_pred(clean[i]) == 'clean':\n",
        "    label = 1\n",
        "  else:\n",
        "    label = 0\n",
        "  clean_dic = {'class_true':'clean','class_pred':img_pred(clean[i]), 'label':label}\n",
        "  evaluate.append(clean_dic)"
      ],
      "execution_count": null,
      "outputs": []
    },
    {
      "cell_type": "code",
      "metadata": {
        "colab": {
          "base_uri": "https://localhost:8080/"
        },
        "id": "PA_bZ0IVowVd",
        "outputId": "688ba97a-1ce3-4aed-c99f-2f47ab56ce45"
      },
      "source": [
        "TN, TP, FP, FN = 0,0,0,0\n",
        "for i in range (0, len(evaluate)):\n",
        "  if evaluate[i][\"class_true\"] == \"defaced\" and evaluate[i][\"label\"] == 1:\n",
        "    TP = TP + 1\n",
        "  if evaluate[i][\"class_true\"] == \"defaced\" and evaluate[i][\"label\"] == 0:\n",
        "    FN = FN + 1\n",
        "  if evaluate[i][\"class_true\"] == \"clean\" and evaluate[i][\"label\"] == 1:\n",
        "    TN = TN + 1\n",
        "  if evaluate[i][\"class_true\"] == \"clean\" and evaluate[i][\"label\"] == 0:\n",
        "    FP = FP + 1\n",
        "print(\"TP: \",TP)\n",
        "print(\"FP: \",FP)\n",
        "print(\"TN: \",TN)\n",
        "print(\"FN: \",FN)"
      ],
      "execution_count": null,
      "outputs": [
        {
          "output_type": "stream",
          "text": [
            "TP:  940\n",
            "FP:  60\n",
            "TN:  1547\n",
            "FN:  18\n"
          ],
          "name": "stdout"
        }
      ]
    },
    {
      "cell_type": "markdown",
      "metadata": {
        "id": "Yj6AcxOY2aIr"
      },
      "source": [
        "Tỉ lệ cảnh báo giả\n",
        "FPR = FP/(FP + TN) "
      ]
    },
    {
      "cell_type": "code",
      "metadata": {
        "colab": {
          "base_uri": "https://localhost:8080/"
        },
        "id": "wSTpQPCx2ZaE",
        "outputId": "abb704a5-aff0-4e9f-cd80-745e03087664"
      },
      "source": [
        "FPR = FP*100/(FP + TN)\n",
        "print(\"FPR: {:.2f}\".format(FPR))"
      ],
      "execution_count": null,
      "outputs": [
        {
          "output_type": "stream",
          "text": [
            "FPR: 3.73\n"
          ],
          "name": "stdout"
        }
      ]
    },
    {
      "cell_type": "markdown",
      "metadata": {
        "id": "CZkhj5gT2354"
      },
      "source": [
        "Tỉ lệ phát hiện: TPR = TP/(TP + FN)"
      ]
    },
    {
      "cell_type": "code",
      "metadata": {
        "colab": {
          "base_uri": "https://localhost:8080/"
        },
        "id": "jY4yC3Wk23lC",
        "outputId": "6470ec35-e05f-4c51-a6bd-330028d3e1cc"
      },
      "source": [
        "TPR = TP*100/(TP + FN)\n",
        "print(\"TPR: {:.2f}\".format(TPR))"
      ],
      "execution_count": null,
      "outputs": [
        {
          "output_type": "stream",
          "text": [
            "TPR: 98.12\n"
          ],
          "name": "stdout"
        }
      ]
    },
    {
      "cell_type": "markdown",
      "metadata": {
        "id": "NlIwmlFB8wfb"
      },
      "source": [
        "Tỉ lệ cảnh báo đúng"
      ]
    },
    {
      "cell_type": "code",
      "metadata": {
        "colab": {
          "base_uri": "https://localhost:8080/"
        },
        "id": "VfO1qm4m6qZ8",
        "outputId": "f7c6a97f-6cbe-411c-b78b-a298926b0af6"
      },
      "source": [
        "PPV = TP*100/(TP + FP)\n",
        "print(\"PPV: {:.2f}\".format(PPV))"
      ],
      "execution_count": null,
      "outputs": [
        {
          "output_type": "stream",
          "text": [
            "PPV: 94.00\n"
          ],
          "name": "stdout"
        }
      ]
    },
    {
      "cell_type": "markdown",
      "metadata": {
        "id": "ltdhImb661Ok"
      },
      "source": [
        "Tỉ lệ bỏ sót FNR = FN/(FN + TP) × 100% = 100 − TPR"
      ]
    },
    {
      "cell_type": "code",
      "metadata": {
        "colab": {
          "base_uri": "https://localhost:8080/"
        },
        "id": "Toy01f-q6xK5",
        "outputId": "13073e59-f6e7-46a4-e675-7cb902989ee8"
      },
      "source": [
        "FNR = FN*100/(FN + TP)\n",
        "print(\"FNR: {:.2f}\".format(FNR))"
      ],
      "execution_count": null,
      "outputs": [
        {
          "output_type": "stream",
          "text": [
            "FNR: 1.88\n"
          ],
          "name": "stdout"
        }
      ]
    },
    {
      "cell_type": "markdown",
      "metadata": {
        "id": "zBVlbY6T7Ath"
      },
      "source": [
        "Độ chính xác tổng thể ACC = (TP + TN)/(TP + FP + TN + FN) × 100%"
      ]
    },
    {
      "cell_type": "code",
      "metadata": {
        "colab": {
          "base_uri": "https://localhost:8080/"
        },
        "id": "XuYdV-ix69-j",
        "outputId": "7fd7cd11-c548-4491-cbd4-a21354c91804"
      },
      "source": [
        "ACC = (TP + TN)*100/(TP + FP + TN + FN)\n",
        "print(\"ACC: {:.2f}\".format(ACC))"
      ],
      "execution_count": null,
      "outputs": [
        {
          "output_type": "stream",
          "text": [
            "ACC: 96.96\n"
          ],
          "name": "stdout"
        }
      ]
    },
    {
      "cell_type": "code",
      "metadata": {
        "colab": {
          "base_uri": "https://localhost:8080/"
        },
        "id": "x--AZZyT67vc",
        "outputId": "4c376f82-bb4f-4b14-8454-e41d7eae329d"
      },
      "source": [
        "F1 = 2*TP*100/(2*TP + FP + FN)\n",
        "print(\"F1 Score: {:.2f}\".format(F1))"
      ],
      "execution_count": null,
      "outputs": [
        {
          "output_type": "stream",
          "text": [
            "F1 Score: 96.02\n"
          ],
          "name": "stdout"
        }
      ]
    }
  ]
}